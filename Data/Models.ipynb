{
 "cells": [
  {
   "cell_type": "code",
   "execution_count": 8,
   "id": "0e215bdd",
   "metadata": {},
   "outputs": [],
   "source": [
    "import pandas as pd\n",
    "from sklearn.model_selection import *\n",
    "from sklearn.metrics import *\n",
    "from sklearn.preprocessing import *\n",
    "from sklearn.pipeline import *"
   ]
  },
  {
   "cell_type": "code",
   "execution_count": null,
   "id": "10b7e5a2",
   "metadata": {},
   "outputs": [
    {
     "name": "stdout",
     "output_type": "stream",
     "text": [
      "no naans\n"
     ]
    }
   ],
   "source": [
    "from sklearn.model_selection import train_test_split\n",
    "from sklearn.ensemble import RandomForestClassifier\n",
    "\n",
    "TrainDF = pd.read_csv('/Users/desktop/Desktop/All/Github/TelecomsPredict/Data/TelecomsChurnDataCleanEncoded.csv')\n",
    "StandScaler = StandardScaler()\n",
    "#setting the dfs\n",
    "y = TrainDF[['Churn_Yes']]\n",
    "#decided to drop avgcustomerrev per month becuase it was not good predictor and had naans\n",
    "X = TrainDF.drop(columns=['Churn_Yes', 'Churn_No','AvgCustomerRevenuePerMonth'])\n",
    "\n",
    "X_train, X_test, y_train, y_test = train_test_split(X, y, test_size=0.3, random_state=42)\n",
    "\n",
    "# Scaling the data\n",
    "X_train_scaled = StandScaler.fit_transform(X_train)\n",
    "X_test_scaled = StandScaler.transform(X_test)\n",
    "\n",
    "\n"
   ]
  },
  {
   "cell_type": "code",
   "execution_count": 25,
   "id": "14972b3b",
   "metadata": {},
   "outputs": [
    {
     "name": "stdout",
     "output_type": "stream",
     "text": [
      "\n",
      "Performance:\n",
      "\n",
      "Logistic Regression Model Performance:\n",
      "  Accuracy:  0.796\n",
      "  Precision: 0.657\n",
      "  Recall:    0.521\n",
      "  F1 Score:  0.581\n"
     ]
    },
    {
     "name": "stderr",
     "output_type": "stream",
     "text": [
      "/Library/Frameworks/Python.framework/Versions/3.12/lib/python3.12/site-packages/sklearn/utils/validation.py:1339: DataConversionWarning: A column-vector y was passed when a 1d array was expected. Please change the shape of y to (n_samples, ), for example using ravel().\n",
      "  y = column_or_1d(y, warn=True)\n",
      "/Library/Frameworks/Python.framework/Versions/3.12/lib/python3.12/site-packages/sklearn/utils/validation.py:1339: DataConversionWarning: A column-vector y was passed when a 1d array was expected. Please change the shape of y to (n_samples, ), for example using ravel().\n",
      "  y = column_or_1d(y, warn=True)\n"
     ]
    },
    {
     "name": "stdout",
     "output_type": "stream",
     "text": [
      "\n",
      "Support Vector Machine Model Performance:\n",
      "  Accuracy:  0.787\n",
      "  Precision: 0.681\n",
      "  Recall:    0.406\n",
      "  F1 Score:  0.509\n"
     ]
    },
    {
     "name": "stderr",
     "output_type": "stream",
     "text": [
      "/Library/Frameworks/Python.framework/Versions/3.12/lib/python3.12/site-packages/sklearn/base.py:1473: DataConversionWarning: A column-vector y was passed when a 1d array was expected. Please change the shape of y to (n_samples,), for example using ravel().\n",
      "  return fit_method(estimator, *args, **kwargs)\n"
     ]
    },
    {
     "name": "stdout",
     "output_type": "stream",
     "text": [
      "\n",
      "Random Forest Model Performance:\n",
      "  Accuracy:  0.772\n",
      "  Precision: 0.613\n",
      "  Recall:    0.441\n",
      "  F1 Score:  0.513\n",
      "\n",
      "XgBoost Model Performance:\n",
      "  Accuracy:  0.765\n",
      "  Precision: 0.584\n",
      "  Recall:    0.472\n",
      "  F1 Score:  0.522\n",
      "\n",
      "SGDClassifier Model Performance:\n",
      "  Accuracy:  0.766\n",
      "  Precision: 0.560\n",
      "  Recall:    0.646\n",
      "  F1 Score:  0.600\n"
     ]
    },
    {
     "name": "stderr",
     "output_type": "stream",
     "text": [
      "/Library/Frameworks/Python.framework/Versions/3.12/lib/python3.12/site-packages/sklearn/utils/validation.py:1339: DataConversionWarning: A column-vector y was passed when a 1d array was expected. Please change the shape of y to (n_samples, ), for example using ravel().\n",
      "  y = column_or_1d(y, warn=True)\n"
     ]
    }
   ],
   "source": [
    "#running classification models based on PCA components\n",
    "from sklearn.pipeline import Pipeline\n",
    "from sklearn.linear_model import LogisticRegression,SGDClassifier\n",
    "from sklearn.svm import SVC\n",
    "from sklearn.metrics import accuracy_score\n",
    "from sklearn.metrics import f1_score            \n",
    "from sklearn.metrics import precision_score\n",
    "from sklearn.metrics import recall_score\n",
    "from xgboost import XGBClassifier\n",
    "from sklearn.decomposition import PCA\n",
    "#can\n",
    "n_components = 12\n",
    "\n",
    "pipelines = {\n",
    "    'Logistic Regression': Pipeline([\n",
    "        ('scaler', StandardScaler()),\n",
    "        ('pca', PCA(n_components=n_components, svd_solver='randomized', random_state=42)),\n",
    "        ('clf', LogisticRegression(random_state=42,solver='liblinear', max_iter=10000))\n",
    "    ]),\n",
    "    'Support Vector Machine': Pipeline([\n",
    "        ('scaler', StandardScaler()),\n",
    "        ('pca', PCA(n_components=n_components, svd_solver='randomized', random_state=42)),\n",
    "        ('clf', SVC(probability=True, random_state=42, kernel='poly'))\n",
    "    ]),\n",
    "    'Random Forest': Pipeline([\n",
    "        ('scaler', StandardScaler()),\n",
    "        ('pca', PCA(n_components=n_components, svd_solver='randomized', random_state=42)),\n",
    "        ('clf', RandomForestClassifier(random_state=42))\n",
    "    ]),\n",
    "    'XgBoost': Pipeline([\n",
    "        ('scaler', StandardScaler()),\n",
    "        ('pca', PCA(n_components=n_components, svd_solver='randomized', random_state=42)),\n",
    "        ('clf', XGBClassifier(random_state=42))\n",
    "    ]),\n",
    "    'SGDClassifier': Pipeline([\n",
    "        ('scaler', StandardScaler()),\n",
    "        ('pca', PCA(n_components=n_components, svd_solver='randomized', random_state=42)),\n",
    "        ('clf', SGDClassifier(random_state=42))\n",
    "    ])\n",
    "}\n",
    "\n",
    "# Running each model on the hold-out test set and calculating various metrics\n",
    "print(\"\\nPerformance:\")\n",
    "for name, pipeline in pipelines.items():\n",
    "    pipeline.fit(X_train_scaled, y_train)\n",
    "    y_pred = pipeline.predict(X_test_scaled)\n",
    "    #classification metrics\n",
    "    accuracy = accuracy_score(y_test, y_pred)\n",
    "    precision = precision_score(y_test, y_pred)\n",
    "    recall = recall_score(y_test, y_pred)\n",
    "    f1 = f1_score(y_test, y_pred)\n",
    "    # performance results\n",
    "    print(f\"\\n{name} Model Performance:\")\n",
    "    print(f\"  Accuracy:  {accuracy:.3f}\")\n",
    "    print(f\"  Precision: {precision:.3f}\")\n",
    "    print(f\"  Recall:    {recall:.3f}\")\n",
    "    print(f\"  F1 Score:  {f1:.3f}\")"
   ]
  }
 ],
 "metadata": {
  "kernelspec": {
   "display_name": "Python 3",
   "language": "python",
   "name": "python3"
  },
  "language_info": {
   "codemirror_mode": {
    "name": "ipython",
    "version": 3
   },
   "file_extension": ".py",
   "mimetype": "text/x-python",
   "name": "python",
   "nbconvert_exporter": "python",
   "pygments_lexer": "ipython3",
   "version": "3.12.3"
  }
 },
 "nbformat": 4,
 "nbformat_minor": 5
}
